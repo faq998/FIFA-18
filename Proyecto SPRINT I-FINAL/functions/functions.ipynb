{
 "cells": [
  {
   "cell_type": "code",
   "execution_count": 15,
   "metadata": {},
   "outputs": [],
   "source": [
    "def rango_edad(edad):\n",
    "    if edad > 16 and edad <= 21:\n",
    "        return \"Joven promesa\"\n",
    "    elif edad >= 22 and edad <= 30:\n",
    "        return \"Máximo potencial\"\n",
    "    elif edad > 30:\n",
    "        return \"Cercano al retiro\"\n",
    "    else:\n",
    "        return None"
   ]
  },
  {
   "cell_type": "code",
   "execution_count": 16,
   "metadata": {},
   "outputs": [],
   "source": [
    "# Función para convertir los valores de jugadores a números\n",
    "def convertir_a_numeros(valor):\n",
    "    if isinstance(valor, str):  # Verifica si valor es una cadena\n",
    "        if 'M' in valor:\n",
    "            return float(valor.replace('€', '').replace('M', '').strip()) * 1\n",
    "        elif 'K' in valor:\n",
    "            return float(valor.replace('€', '').replace('K', '').strip()) * 0.001\n",
    "        else:\n",
    "            return float(valor.replace('€', '').strip())\n",
    "    else:\n",
    "        return valor  # Devuelve el valor sin cambios si no es una cadena"
   ]
  },
  {
   "cell_type": "code",
   "execution_count": 17,
   "metadata": {},
   "outputs": [],
   "source": [
    "# Función para clasificar a los jugadores de acuerdo a su nivel\n",
    "def talento(valor):\n",
    "    if valor >= 80:\n",
    "        return \"Alto nivel\"\n",
    "    elif valor >=70:\n",
    "        return \"Nivel medio\"\n",
    "    else:\n",
    "        return \"Nivel novato\""
   ]
  },
  {
   "cell_type": "code",
   "execution_count": 18,
   "metadata": {},
   "outputs": [],
   "source": [
    "def convertir_valor(valor):\n",
    "    valor = str(valor)  \n",
    "    valor = valor.replace('€', '')  \n",
    "    \n",
    "    if 'M' in valor: \n",
    "        return (float(valor.replace('M', '')) * 1e6) / 1e3\n",
    "    elif 'K' in valor:  \n",
    "        return (float(valor.replace('K', '')) * 1e3) / 1e3\n",
    "    else:\n",
    "        return (float(valor) )/ 1e3  \n",
    "\n"
   ]
  }
 ],
 "metadata": {
  "kernelspec": {
   "display_name": "Python 3",
   "language": "python",
   "name": "python3"
  },
  "language_info": {
   "codemirror_mode": {
    "name": "ipython",
    "version": 3
   },
   "file_extension": ".py",
   "mimetype": "text/x-python",
   "name": "python",
   "nbconvert_exporter": "python",
   "pygments_lexer": "ipython3",
   "version": "3.11.9"
  }
 },
 "nbformat": 4,
 "nbformat_minor": 2
}
